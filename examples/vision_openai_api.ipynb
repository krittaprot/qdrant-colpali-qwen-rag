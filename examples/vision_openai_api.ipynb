{
 "cells": [
  {
   "cell_type": "markdown",
   "metadata": {},
   "source": [
    "## Streaming Chat Completion with Text-Only Input Using OpenAI API\n",
    "\n",
    "This script demonstrates how to perform a streaming chat completion using the OpenAI API. It sets up a chat completion request to generate responses incrementally, allowing you to process the output as it is being generated."
   ]
  },
  {
   "cell_type": "code",
   "execution_count": 1,
   "metadata": {},
   "outputs": [
    {
     "name": "stdout",
     "output_type": "stream",
     "text": [
      "I'm a Poem Writer, here to bring joy and cheer,\n",
      "In rhyming words, I'll make your day appear.\n",
      "With lines that flow like a gentle stream,\n",
      "I’ll weave your thoughts into something so clean."
     ]
    }
   ],
   "source": [
    "from openai import OpenAI\n",
    "\n",
    "# Point to the local server\n",
    "client = OpenAI(base_url=\"http://localhost:1234/v1\", api_key=\"lm-studio\")\n",
    "\n",
    "# Set up the request with stream=True\n",
    "completion = client.chat.completions.create(\n",
    "    model=\"qwen2-vl-7b-instruct\",\n",
    "    messages=[\n",
    "        {\"role\": \"system\", \"content\": \"Always answer in rhymes.\"},\n",
    "        {\"role\": \"user\", \"content\": \"Introduce yourself.\"}\n",
    "    ],\n",
    "    temperature=0.7,\n",
    "    stream=True  # Enable streaming\n",
    ")\n",
    "\n",
    "# Process the streamed response\n",
    "for chunk in completion:\n",
    "    print(chunk.choices[0].delta.content if chunk.choices[0].delta.content else \"\", end=\"\", flush=True)"
   ]
  },
  {
   "cell_type": "markdown",
   "metadata": {},
   "source": [
    "## Streaming Chat Completion with Text + Image Input Using OpenAI API\n",
    "\n",
    "This script demonstrates how to perform a streaming chat completion using the OpenAI API with an image input. It sets up a chat completion request to generate responses incrementally, allowing you to process the output as it is being generated. The image is fetched from a URL, converted to a base64-encoded string, and included in the request."
   ]
  },
  {
   "cell_type": "code",
   "execution_count": 4,
   "metadata": {},
   "outputs": [
    {
     "ename": "Exception",
     "evalue": "Failed to fetch image from https://upload.wikimedia.org/wikipedia/commons/thumb/d/dd/Gfp-wisconsin-madison-the-nature-boardwalk.jpg/2560px-Gfp-wisconsin-madison-the-nature-boardwalk.jpg",
     "output_type": "error",
     "traceback": [
      "\u001b[0;31m---------------------------------------------------------------------------\u001b[0m",
      "\u001b[0;31mException\u001b[0m                                 Traceback (most recent call last)",
      "Cell \u001b[0;32mIn[4], line 21\u001b[0m\n\u001b[1;32m     18\u001b[0m image_url \u001b[38;5;241m=\u001b[39m \u001b[38;5;124m\"\u001b[39m\u001b[38;5;124mhttps://upload.wikimedia.org/wikipedia/commons/thumb/d/dd/Gfp-wisconsin-madison-the-nature-boardwalk.jpg/2560px-Gfp-wisconsin-madison-the-nature-boardwalk.jpg\u001b[39m\u001b[38;5;124m\"\u001b[39m\n\u001b[1;32m     20\u001b[0m \u001b[38;5;66;03m# Get the base64-encoded image\u001b[39;00m\n\u001b[0;32m---> 21\u001b[0m encoded_image \u001b[38;5;241m=\u001b[39m \u001b[43mget_base64_encoded_image\u001b[49m\u001b[43m(\u001b[49m\u001b[43mimage_url\u001b[49m\u001b[43m)\u001b[49m\n\u001b[1;32m     23\u001b[0m \u001b[38;5;66;03m# Set up the request with stream=True and include the base64-encoded image\u001b[39;00m\n\u001b[1;32m     24\u001b[0m response \u001b[38;5;241m=\u001b[39m client\u001b[38;5;241m.\u001b[39mchat\u001b[38;5;241m.\u001b[39mcompletions\u001b[38;5;241m.\u001b[39mcreate(\n\u001b[1;32m     25\u001b[0m     model\u001b[38;5;241m=\u001b[39m\u001b[38;5;124m\"\u001b[39m\u001b[38;5;124mqwen2-vl-7b-instruct\u001b[39m\u001b[38;5;124m\"\u001b[39m,\n\u001b[1;32m     26\u001b[0m     messages\u001b[38;5;241m=\u001b[39m[\n\u001b[0;32m   (...)\u001b[0m\n\u001b[1;32m     41\u001b[0m     stream\u001b[38;5;241m=\u001b[39m\u001b[38;5;28;01mTrue\u001b[39;00m  \u001b[38;5;66;03m# Enable streaming\u001b[39;00m\n\u001b[1;32m     42\u001b[0m )\n",
      "Cell \u001b[0;32mIn[4], line 12\u001b[0m, in \u001b[0;36mget_base64_encoded_image\u001b[0;34m(image_url)\u001b[0m\n\u001b[1;32m     10\u001b[0m     \u001b[38;5;28;01mreturn\u001b[39;00m base64\u001b[38;5;241m.\u001b[39mb64encode(image_data)\u001b[38;5;241m.\u001b[39mdecode(\u001b[38;5;124m'\u001b[39m\u001b[38;5;124mutf-8\u001b[39m\u001b[38;5;124m'\u001b[39m)\n\u001b[1;32m     11\u001b[0m \u001b[38;5;28;01melse\u001b[39;00m:\n\u001b[0;32m---> 12\u001b[0m     \u001b[38;5;28;01mraise\u001b[39;00m \u001b[38;5;167;01mException\u001b[39;00m(\u001b[38;5;124mf\u001b[39m\u001b[38;5;124m\"\u001b[39m\u001b[38;5;124mFailed to fetch image from \u001b[39m\u001b[38;5;132;01m{\u001b[39;00mimage_url\u001b[38;5;132;01m}\u001b[39;00m\u001b[38;5;124m\"\u001b[39m)\n",
      "\u001b[0;31mException\u001b[0m: Failed to fetch image from https://upload.wikimedia.org/wikipedia/commons/thumb/d/dd/Gfp-wisconsin-madison-the-nature-boardwalk.jpg/2560px-Gfp-wisconsin-madison-the-nature-boardwalk.jpg"
     ]
    }
   ],
   "source": [
    "import requests\n",
    "import base64\n",
    "from openai import OpenAI\n",
    "\n",
    "# Function to fetch and encode the image\n",
    "def get_base64_encoded_image(image_url):\n",
    "    response = requests.get(image_url)\n",
    "    if response.status_code == 200:\n",
    "        image_data = response.content\n",
    "        return base64.b64encode(image_data).decode('utf-8')\n",
    "    else:\n",
    "        raise Exception(f\"Failed to fetch image from {image_url}\")\n",
    "\n",
    "# Point to the local server\n",
    "client = OpenAI(base_url=\"http://localhost:1234/v1\", api_key=\"lm-studio\")\n",
    "\n",
    "# Example image URL\n",
    "image_url = \"https://upload.wikimedia.org/wikipedia/commons/thumb/d/dd/Gfp-wisconsin-madison-the-nature-boardwalk.jpg/2560px-Gfp-wisconsin-madison-the-nature-boardwalk.jpg\"\n",
    "\n",
    "# Get the base64-encoded image\n",
    "encoded_image = get_base64_encoded_image(image_url)\n",
    "\n",
    "# Set up the request with stream=True and include the base64-encoded image\n",
    "response = client.chat.completions.create(\n",
    "    model=\"qwen2-vl-7b-instruct\",\n",
    "    messages=[\n",
    "        {\n",
    "            \"role\": \"user\",\n",
    "            \"content\": [\n",
    "                {\"type\": \"text\", \"text\": \"What's in this image?\"},\n",
    "                {\n",
    "                    \"type\": \"image_url\",\n",
    "                    \"image_url\": {\n",
    "                        \"url\": f\"data:image/jpeg;base64,{encoded_image}\",\n",
    "                    },\n",
    "                },\n",
    "            ],\n",
    "        }\n",
    "    ],\n",
    "    max_tokens=300,\n",
    "    stream=True  # Enable streaming\n",
    ")\n",
    "\n",
    "# Process the streamed response\n",
    "for chunk in response:\n",
    "    print(chunk.choices[0].delta.content if chunk.choices[0].delta.content else \"\", end=\"\", flush=True)"
   ]
  }
 ],
 "metadata": {
  "kernelspec": {
   "display_name": ".multimodal_rag",
   "language": "python",
   "name": "python3"
  },
  "language_info": {
   "codemirror_mode": {
    "name": "ipython",
    "version": 3
   },
   "file_extension": ".py",
   "mimetype": "text/x-python",
   "name": "python",
   "nbconvert_exporter": "python",
   "pygments_lexer": "ipython3",
   "version": "3.11.0"
  }
 },
 "nbformat": 4,
 "nbformat_minor": 2
}
